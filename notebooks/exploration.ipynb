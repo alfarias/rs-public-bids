{
 "cells": [
  {
   "cell_type": "markdown",
   "metadata": {},
   "source": [
    "# 1. Introduction"
   ]
  },
  {
   "cell_type": "markdown",
   "metadata": {},
   "source": [
    "# 2. Load Modules and Variable Environments"
   ]
  },
  {
   "cell_type": "code",
   "execution_count": 14,
   "metadata": {},
   "outputs": [],
   "source": [
    "%reload_ext autoreload\n",
    "%autoreload 1\n",
    "# Load custom local packages\n",
    "import sys\n",
    "import os\n",
    "sys.path.append(os.path.abspath('..'))\n",
    "# Local Packages\n",
    "%aimport src.features\n",
    "from src.features.build_features import build_features\n",
    "# Standard Packages\n",
    "import pandas as pd\n",
    "# Paths and Config constants\n",
    "DATA_PATH = os.path.abspath('..')+os.sep+'data'\n",
    "FIG_PATH = os.path.abspath('..')+os.sep+'reports'+os.sep+'figures'\n",
    "YEARS = [2016, 2017, 2018, 2019]"
   ]
  },
  {
   "cell_type": "markdown",
   "metadata": {},
   "source": [
    "# 3. Build Required Features"
   ]
  },
  {
   "cell_type": "code",
   "execution_count": 16,
   "metadata": {
    "tags": []
   },
   "outputs": [
    {
     "output_type": "stream",
     "name": "stdout",
     "text": "Building Features for licitacao...\nSaving extracted features to parquet file...\nBuilding features process finished!\n==================\nBuilding Features for item...\nSaving extracted features to parquet file...\nBuilding features process finished!\n"
    }
   ],
   "source": [
    "\n",
    "bid_features = ['NR_LICITACAO', 'CD_ORGAO', 'NM_ORGAO', 'DS_OBJETO',\n",
    "                 'TP_OBJETO', 'ANO_LICITACAO']\n",
    "item_features = ['NR_LICITACAO', 'DS_ITEM', 'VL_UNITARIO_HOMOLOGADO']\n",
    "\n",
    "build_features(dataset='licitacao', data_path=DATA_PATH, cols=bid_features, values=YEARS)\n",
    "print('=' * 18)\n",
    "build_features(dataset='item', data_path=DATA_PATH, cols=item_features, values=YEARS)"
   ]
  },
  {
   "cell_type": "code",
   "execution_count": 18,
   "metadata": {},
   "outputs": [
    {
     "output_type": "execute_result",
     "data": {
      "text/plain": "       CD_ORGAO                NM_ORGAO  NR_LICITACAO  ANO_LICITACAO  \\\n0         84100  PM DE ESPERANÇA DO SUL          4.00           2016   \n1         82701         CM DE XANGRI-LÁ          1.00           2016   \n2         84100  PM DE ESPERANÇA DO SUL          6.00           2016   \n3         53100        PM DE NOVA PALMA          3.00           2016   \n4         86800  PM DE BOA VISTA DO SUL          3.00           2016   \n...         ...                     ...           ...            ...   \n82185     82901           CM DE ARARICÁ         29.00           2019   \n82186     82901           CM DE ARARICÁ         28.00           2019   \n82187      2304         BRIGADA MILITAR      84509.55           2019   \n82188     56900       PM DE SANTA MARIA         39.00           2019   \n82189     56900       PM DE SANTA MARIA         19.00           2019   \n\n                                               DS_OBJETO  \n0                          Aquisição de merenda escolar   \n1      AQUISIÇÃO DE PROTOCOLADORA E FRAGMENTADORA DE ...  \n2      Aquisição de materiais de limpeza para as dive...  \n3                         Aquisição de tubos de concreto  \n4                         Aquisição de tubos de concreto  \n...                                                  ...  \n82185                  aquisição de materiais de limpeza  \n82186  aquisição de materiais de limpeza para esta ca...  \n82187  100.000 (cem mil) unidades munições CBC 40sw C...  \n82188            Fornecimento de passagem escolar urbana  \n82189  Aquisição de material educativo, esportivo e v...  \n\n[82190 rows x 5 columns]",
      "text/html": "<div>\n<style scoped>\n    .dataframe tbody tr th:only-of-type {\n        vertical-align: middle;\n    }\n\n    .dataframe tbody tr th {\n        vertical-align: top;\n    }\n\n    .dataframe thead th {\n        text-align: right;\n    }\n</style>\n<table border=\"1\" class=\"dataframe\">\n  <thead>\n    <tr style=\"text-align: right;\">\n      <th></th>\n      <th>CD_ORGAO</th>\n      <th>NM_ORGAO</th>\n      <th>NR_LICITACAO</th>\n      <th>ANO_LICITACAO</th>\n      <th>DS_OBJETO</th>\n    </tr>\n  </thead>\n  <tbody>\n    <tr>\n      <th>0</th>\n      <td>84100</td>\n      <td>PM DE ESPERANÇA DO SUL</td>\n      <td>4.00</td>\n      <td>2016</td>\n      <td>Aquisição de merenda escolar</td>\n    </tr>\n    <tr>\n      <th>1</th>\n      <td>82701</td>\n      <td>CM DE XANGRI-LÁ</td>\n      <td>1.00</td>\n      <td>2016</td>\n      <td>AQUISIÇÃO DE PROTOCOLADORA E FRAGMENTADORA DE ...</td>\n    </tr>\n    <tr>\n      <th>2</th>\n      <td>84100</td>\n      <td>PM DE ESPERANÇA DO SUL</td>\n      <td>6.00</td>\n      <td>2016</td>\n      <td>Aquisição de materiais de limpeza para as dive...</td>\n    </tr>\n    <tr>\n      <th>3</th>\n      <td>53100</td>\n      <td>PM DE NOVA PALMA</td>\n      <td>3.00</td>\n      <td>2016</td>\n      <td>Aquisição de tubos de concreto</td>\n    </tr>\n    <tr>\n      <th>4</th>\n      <td>86800</td>\n      <td>PM DE BOA VISTA DO SUL</td>\n      <td>3.00</td>\n      <td>2016</td>\n      <td>Aquisição de tubos de concreto</td>\n    </tr>\n    <tr>\n      <th>...</th>\n      <td>...</td>\n      <td>...</td>\n      <td>...</td>\n      <td>...</td>\n      <td>...</td>\n    </tr>\n    <tr>\n      <th>82185</th>\n      <td>82901</td>\n      <td>CM DE ARARICÁ</td>\n      <td>29.00</td>\n      <td>2019</td>\n      <td>aquisição de materiais de limpeza</td>\n    </tr>\n    <tr>\n      <th>82186</th>\n      <td>82901</td>\n      <td>CM DE ARARICÁ</td>\n      <td>28.00</td>\n      <td>2019</td>\n      <td>aquisição de materiais de limpeza para esta ca...</td>\n    </tr>\n    <tr>\n      <th>82187</th>\n      <td>2304</td>\n      <td>BRIGADA MILITAR</td>\n      <td>84509.55</td>\n      <td>2019</td>\n      <td>100.000 (cem mil) unidades munições CBC 40sw C...</td>\n    </tr>\n    <tr>\n      <th>82188</th>\n      <td>56900</td>\n      <td>PM DE SANTA MARIA</td>\n      <td>39.00</td>\n      <td>2019</td>\n      <td>Fornecimento de passagem escolar urbana</td>\n    </tr>\n    <tr>\n      <th>82189</th>\n      <td>56900</td>\n      <td>PM DE SANTA MARIA</td>\n      <td>19.00</td>\n      <td>2019</td>\n      <td>Aquisição de material educativo, esportivo e v...</td>\n    </tr>\n  </tbody>\n</table>\n<p>82190 rows × 5 columns</p>\n</div>"
     },
     "metadata": {},
     "execution_count": 18
    }
   ],
   "source": [
    "bid = pd.read_parquet(DATA_PATH+os.sep+'processed'+\n",
    "                        os.sep+str(min(years))+'_'+str(max(years))+\n",
    "                        '_'+'licitacao.parquet')\n",
    "item = pd.read_parquet(DATA_PATH+os.sep+'processed'+\n",
    "                        os.sep+str(min(years))+'_'+str(max(years))+\n",
    "                        '_'+'item.parquet')"
   ]
  },
  {
   "cell_type": "code",
   "execution_count": 20,
   "metadata": {},
   "outputs": [
    {
     "output_type": "execute_result",
     "data": {
      "text/plain": "         NR_LICITACAO                                            DS_ITEM  \\\n0                15.0  Pneu 1000/20 liso radial, dianteiro, 16 lonas,...   \n1                15.0                 Pneu 12.4x24 garra baixa, 10 lonas   \n2                15.0                       Pneu 1400x24 mínimo 12 lonas   \n3                15.0  Pneu 17.5x25 12 lonas, capacidade mínima de ca...   \n4                15.0          Pneu 18.4x30 garra baixa, mínimo 10 lonas   \n...               ...                                                ...   \n3070839           2.0                    Pneu 19,5 L-24 R-4 12 Lonas S/C   \n3070840           2.0                            Pneu 185/70R14 88T S/C    \n3070841           2.0        Pneu 7.50-16 10 lonas p/ implemento (Grade)   \n3070842           2.0         Pneu 6.00-16 / 6 lonas implemento agrícola   \n3070843          31.0                     cartucho KIOCERA TK 1147 PRETO   \n\n         VL_UNITARIO_HOMOLOGADO  ANO_LICITACAO  \n0                        1430.0           2016  \n1                        1258.0           2016  \n2                        1998.0           2016  \n3                        2978.0           2016  \n4                        2500.0           2016  \n...                         ...            ...  \n3070839                  2075.0           2019  \n3070840                   220.0           2019  \n3070841                   398.0           2019  \n3070842                   280.0           2019  \n3070843                   337.0           2019  \n\n[3070844 rows x 4 columns]",
      "text/html": "<div>\n<style scoped>\n    .dataframe tbody tr th:only-of-type {\n        vertical-align: middle;\n    }\n\n    .dataframe tbody tr th {\n        vertical-align: top;\n    }\n\n    .dataframe thead th {\n        text-align: right;\n    }\n</style>\n<table border=\"1\" class=\"dataframe\">\n  <thead>\n    <tr style=\"text-align: right;\">\n      <th></th>\n      <th>NR_LICITACAO</th>\n      <th>DS_ITEM</th>\n      <th>VL_UNITARIO_HOMOLOGADO</th>\n      <th>ANO_LICITACAO</th>\n    </tr>\n  </thead>\n  <tbody>\n    <tr>\n      <th>0</th>\n      <td>15.0</td>\n      <td>Pneu 1000/20 liso radial, dianteiro, 16 lonas,...</td>\n      <td>1430.0</td>\n      <td>2016</td>\n    </tr>\n    <tr>\n      <th>1</th>\n      <td>15.0</td>\n      <td>Pneu 12.4x24 garra baixa, 10 lonas</td>\n      <td>1258.0</td>\n      <td>2016</td>\n    </tr>\n    <tr>\n      <th>2</th>\n      <td>15.0</td>\n      <td>Pneu 1400x24 mínimo 12 lonas</td>\n      <td>1998.0</td>\n      <td>2016</td>\n    </tr>\n    <tr>\n      <th>3</th>\n      <td>15.0</td>\n      <td>Pneu 17.5x25 12 lonas, capacidade mínima de ca...</td>\n      <td>2978.0</td>\n      <td>2016</td>\n    </tr>\n    <tr>\n      <th>4</th>\n      <td>15.0</td>\n      <td>Pneu 18.4x30 garra baixa, mínimo 10 lonas</td>\n      <td>2500.0</td>\n      <td>2016</td>\n    </tr>\n    <tr>\n      <th>...</th>\n      <td>...</td>\n      <td>...</td>\n      <td>...</td>\n      <td>...</td>\n    </tr>\n    <tr>\n      <th>3070839</th>\n      <td>2.0</td>\n      <td>Pneu 19,5 L-24 R-4 12 Lonas S/C</td>\n      <td>2075.0</td>\n      <td>2019</td>\n    </tr>\n    <tr>\n      <th>3070840</th>\n      <td>2.0</td>\n      <td>Pneu 185/70R14 88T S/C</td>\n      <td>220.0</td>\n      <td>2019</td>\n    </tr>\n    <tr>\n      <th>3070841</th>\n      <td>2.0</td>\n      <td>Pneu 7.50-16 10 lonas p/ implemento (Grade)</td>\n      <td>398.0</td>\n      <td>2019</td>\n    </tr>\n    <tr>\n      <th>3070842</th>\n      <td>2.0</td>\n      <td>Pneu 6.00-16 / 6 lonas implemento agrícola</td>\n      <td>280.0</td>\n      <td>2019</td>\n    </tr>\n    <tr>\n      <th>3070843</th>\n      <td>31.0</td>\n      <td>cartucho KIOCERA TK 1147 PRETO</td>\n      <td>337.0</td>\n      <td>2019</td>\n    </tr>\n  </tbody>\n</table>\n<p>3070844 rows × 4 columns</p>\n</div>"
     },
     "metadata": {},
     "execution_count": 20
    }
   ],
   "source": [
    "\n",
    "items"
   ]
  }
 ],
 "metadata": {
  "kernelspec": {
   "display_name": "pycaret",
   "language": "python",
   "name": "pycaret"
  },
  "language_info": {
   "codemirror_mode": {
    "name": "ipython",
    "version": 3
   },
   "file_extension": ".py",
   "mimetype": "text/x-python",
   "name": "python",
   "nbconvert_exporter": "python",
   "pygments_lexer": "ipython3",
   "version": "3.7.7-final"
  }
 },
 "nbformat": 4,
 "nbformat_minor": 2
}