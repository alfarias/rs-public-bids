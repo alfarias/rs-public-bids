{
 "cells": [
  {
   "cell_type": "markdown",
   "metadata": {},
   "source": [
    "# 1. Introduction\n",
    "\n",
    "Rio Grande do Sul Public Bids."
   ]
  },
  {
   "cell_type": "markdown",
   "metadata": {},
   "source": [
    "# 2. Load Modules and Variable Environments"
   ]
  },
  {
   "cell_type": "code",
   "execution_count": 85,
   "metadata": {},
   "outputs": [],
   "source": [
    "%reload_ext autoreload\n",
    "%autoreload 1\n",
    "# Load custom local packages\n",
    "import sys\n",
    "import os\n",
    "sys.path.append(os.path.abspath('..'))\n",
    "# Local Packages\n",
    "%aimport src.features\n",
    "from src.features.build_features import build_features\n",
    "# Standard Packages\n",
    "import pandas as pd\n",
    "import numpy as np\n",
    "from IPython.display import HTML\n",
    "# Visualization Packages\n",
    "import hvplot.pandas\n",
    "# Paths and Config constants\n",
    "DATA_PATH = os.path.abspath('..')+os.sep+'data'\n",
    "FIG_PATH = os.path.abspath('..')+os.sep+'reports'+os.sep+'figures'+os.sep\n",
    "YEARS = [2016, 2017, 2018, 2019]"
   ]
  },
  {
   "cell_type": "markdown",
   "metadata": {},
   "source": [
    "# 3. Build Required Features"
   ]
  },
  {
   "cell_type": "code",
   "execution_count": 23,
   "metadata": {
    "tags": []
   },
   "outputs": [
    {
     "output_type": "execute_result",
     "data": {
      "text/plain": "\"\\nbid_features = ['NR_LICITACAO', 'CD_ORGAO', 'NM_ORGAO', 'DS_OBJETO',\\n                 'TP_OBJETO', 'ANO_LICITACAO']\\nitem_features = ['NR_LICITACAO', 'DS_ITEM', 'VL_UNITARIO_HOMOLOGADO']\\n\\nbuild_features(dataset='licitacao', data_path=DATA_PATH, cols=bid_features, values=YEARS)\\nprint('=' * 18)\\nbuild_features(dataset='item', data_path=DATA_PATH, cols=item_features, values=YEARS)\\n\""
     },
     "metadata": {},
     "execution_count": 23
    }
   ],
   "source": [
    "'''\n",
    "bid_features = ['NR_LICITACAO', 'CD_ORGAO', 'NM_ORGAO', 'DS_OBJETO',\n",
    "                 'TP_OBJETO', 'ANO_LICITACAO']\n",
    "item_features = ['NR_LICITACAO', 'DS_ITEM', 'VL_UNITARIO_HOMOLOGADO']\n",
    "\n",
    "build_features(dataset='licitacao', data_path=DATA_PATH, cols=bid_features, values=YEARS)\n",
    "print('=' * 18)\n",
    "build_features(dataset='item', data_path=DATA_PATH, cols=item_features, values=YEARS)\n",
    "'''"
   ]
  },
  {
   "cell_type": "markdown",
   "metadata": {},
   "source": [
    "# 4. Load Processed Data"
   ]
  },
  {
   "cell_type": "code",
   "execution_count": 53,
   "metadata": {
    "tags": []
   },
   "outputs": [
    {
     "output_type": "display_data",
     "data": {
      "text/plain": "<IPython.core.display.HTML object>",
      "text/html": "<b>Public Bids Dataset</b>"
     },
     "metadata": {}
    },
    {
     "output_type": "display_data",
     "data": {
      "text/plain": "   CD_ORGAO                NM_ORGAO  NR_LICITACAO  ANO_LICITACAO  \\\n0     84100  PM DE ESPERANÇA DO SUL           4.0           2016   \n1     82701         CM DE XANGRI-LÁ           1.0           2016   \n2     84100  PM DE ESPERANÇA DO SUL           6.0           2016   \n\n                                           DS_OBJETO  \n0                      Aquisição de merenda escolar   \n1  AQUISIÇÃO DE PROTOCOLADORA E FRAGMENTADORA DE ...  \n2  Aquisição de materiais de limpeza para as dive...  ",
      "text/html": "<div>\n<style scoped>\n    .dataframe tbody tr th:only-of-type {\n        vertical-align: middle;\n    }\n\n    .dataframe tbody tr th {\n        vertical-align: top;\n    }\n\n    .dataframe thead th {\n        text-align: right;\n    }\n</style>\n<table border=\"1\" class=\"dataframe\">\n  <thead>\n    <tr style=\"text-align: right;\">\n      <th></th>\n      <th>CD_ORGAO</th>\n      <th>NM_ORGAO</th>\n      <th>NR_LICITACAO</th>\n      <th>ANO_LICITACAO</th>\n      <th>DS_OBJETO</th>\n    </tr>\n  </thead>\n  <tbody>\n    <tr>\n      <th>0</th>\n      <td>84100</td>\n      <td>PM DE ESPERANÇA DO SUL</td>\n      <td>4.0</td>\n      <td>2016</td>\n      <td>Aquisição de merenda escolar</td>\n    </tr>\n    <tr>\n      <th>1</th>\n      <td>82701</td>\n      <td>CM DE XANGRI-LÁ</td>\n      <td>1.0</td>\n      <td>2016</td>\n      <td>AQUISIÇÃO DE PROTOCOLADORA E FRAGMENTADORA DE ...</td>\n    </tr>\n    <tr>\n      <th>2</th>\n      <td>84100</td>\n      <td>PM DE ESPERANÇA DO SUL</td>\n      <td>6.0</td>\n      <td>2016</td>\n      <td>Aquisição de materiais de limpeza para as dive...</td>\n    </tr>\n  </tbody>\n</table>\n</div>"
     },
     "metadata": {}
    },
    {
     "output_type": "stream",
     "name": "stdout",
     "text": "Number of samples: 82190\n \n"
    },
    {
     "output_type": "display_data",
     "data": {
      "text/plain": "<IPython.core.display.HTML object>",
      "text/html": "<b>Items Dataset</b>"
     },
     "metadata": {}
    },
    {
     "output_type": "display_data",
     "data": {
      "text/plain": "   NR_LICITACAO                                            DS_ITEM  \\\n0          15.0  Pneu 1000/20 liso radial, dianteiro, 16 lonas,...   \n1          15.0                 Pneu 12.4x24 garra baixa, 10 lonas   \n2          15.0                       Pneu 1400x24 mínimo 12 lonas   \n\n   VL_UNITARIO_HOMOLOGADO  ANO_LICITACAO  \n0                  1430.0           2016  \n1                  1258.0           2016  \n2                  1998.0           2016  ",
      "text/html": "<div>\n<style scoped>\n    .dataframe tbody tr th:only-of-type {\n        vertical-align: middle;\n    }\n\n    .dataframe tbody tr th {\n        vertical-align: top;\n    }\n\n    .dataframe thead th {\n        text-align: right;\n    }\n</style>\n<table border=\"1\" class=\"dataframe\">\n  <thead>\n    <tr style=\"text-align: right;\">\n      <th></th>\n      <th>NR_LICITACAO</th>\n      <th>DS_ITEM</th>\n      <th>VL_UNITARIO_HOMOLOGADO</th>\n      <th>ANO_LICITACAO</th>\n    </tr>\n  </thead>\n  <tbody>\n    <tr>\n      <th>0</th>\n      <td>15.0</td>\n      <td>Pneu 1000/20 liso radial, dianteiro, 16 lonas,...</td>\n      <td>1430.0</td>\n      <td>2016</td>\n    </tr>\n    <tr>\n      <th>1</th>\n      <td>15.0</td>\n      <td>Pneu 12.4x24 garra baixa, 10 lonas</td>\n      <td>1258.0</td>\n      <td>2016</td>\n    </tr>\n    <tr>\n      <th>2</th>\n      <td>15.0</td>\n      <td>Pneu 1400x24 mínimo 12 lonas</td>\n      <td>1998.0</td>\n      <td>2016</td>\n    </tr>\n  </tbody>\n</table>\n</div>"
     },
     "metadata": {}
    },
    {
     "output_type": "stream",
     "name": "stdout",
     "text": "Number of samples: 3070844\n"
    }
   ],
   "source": [
    "bid = pd.read_parquet(DATA_PATH+os.sep+'processed'+\n",
    "                        os.sep+str(min(years))+'_'+str(max(years))+\n",
    "                        '_'+'licitacao.parquet')\n",
    "item = pd.read_parquet(DATA_PATH+os.sep+'processed'+\n",
    "                        os.sep+str(min(years))+'_'+str(max(years))+\n",
    "                        '_'+'item.parquet')\n",
    "# Display data without any duplicated samples                        \n",
    "display(HTML('<b>Public Bids Dataset</b>'), bid.head(3))\n",
    "bid.drop_duplicates(inplace=True)\n",
    "print(f'Number of samples: {bid.shape[0]}')\n",
    "print(' ')\n",
    "display(HTML('<b>Items Dataset</b>'), item.head(3))\n",
    "bid.drop_duplicates(inplace=True)\n",
    "print(f'Number of samples: {item.shape[0]}')"
   ]
  },
  {
   "cell_type": "code",
   "execution_count": 54,
   "metadata": {
    "tags": []
   },
   "outputs": [
    {
     "output_type": "display_data",
     "data": {
      "text/plain": "<IPython.core.display.HTML object>",
      "text/html": "<b>Missing values for Bids"
     },
     "metadata": {}
    },
    {
     "output_type": "display_data",
     "data": {
      "text/plain": "CD_ORGAO         0\nNM_ORGAO         0\nNR_LICITACAO     0\nANO_LICITACAO    0\nDS_OBJETO        0\ndtype: int64"
     },
     "metadata": {}
    },
    {
     "output_type": "stream",
     "name": "stdout",
     "text": "\n"
    },
    {
     "output_type": "display_data",
     "data": {
      "text/plain": "<IPython.core.display.HTML object>",
      "text/html": "<b>Missing values for Items"
     },
     "metadata": {}
    },
    {
     "output_type": "display_data",
     "data": {
      "text/plain": "NR_LICITACAO                   0\nDS_ITEM                        1\nVL_UNITARIO_HOMOLOGADO    598723\nANO_LICITACAO                  0\ndtype: int64"
     },
     "metadata": {}
    }
   ],
   "source": [
    "display(HTML('<b>Missing values for Bids'), bid.isnull().sum())\n",
    "print(' ')\n",
    "display(HTML('<b>Missing values for Items'), item.isnull().sum())"
   ]
  },
  {
   "cell_type": "code",
   "execution_count": 55,
   "metadata": {},
   "outputs": [],
   "source": [
    "item.dropna(axis=0, inplace=True)"
   ]
  },
  {
   "cell_type": "markdown",
   "metadata": {
    "tags": []
   },
   "source": [
    "# 5. Exploratory Data Analysis"
   ]
  },
  {
   "cell_type": "code",
   "execution_count": 99,
   "metadata": {},
   "outputs": [
    {
     "output_type": "display_data",
     "data": {},
     "metadata": {}
    },
    {
     "output_type": "execute_result",
     "data": {
      "text/html": "<div id='3200'>\n\n\n\n\n\n  <div class=\"bk-root\" id=\"e0f2d55d-ce43-4fa9-b590-a4298ebce112\" data-root-id=\"3200\"></div>\n</div>\n<script type=\"application/javascript\">(function(root) {\n  function embed_document(root) {\n  var docs_json = {\"6b67836e-2cd5-4bb5-ba8d-c6488e14d849\":{\"roots\":{\"references\":[{\"attributes\":{},\"id\":\"3212\",\"type\":\"LinearScale\"},{\"attributes\":{\"data_source\":{\"id\":\"3235\"},\"glyph\":{\"id\":\"3238\"},\"hover_glyph\":null,\"muted_glyph\":{\"id\":\"3240\"},\"nonselection_glyph\":{\"id\":\"3239\"},\"selection_glyph\":null,\"view\":{\"id\":\"3242\"}},\"id\":\"3241\",\"type\":\"GlyphRenderer\"},{\"attributes\":{},\"id\":\"3226\",\"type\":\"ResetTool\"},{\"attributes\":{\"line_alpha\":0.1,\"line_color\":\"#1f77b3\",\"line_width\":2,\"x\":{\"field\":\"Year\"},\"y\":{\"field\":\"Total\"}},\"id\":\"3239\",\"type\":\"Line\"},{\"attributes\":{\"line_alpha\":0.2,\"line_color\":\"#1f77b3\",\"line_width\":2,\"x\":{\"field\":\"Year\"},\"y\":{\"field\":\"Total\"}},\"id\":\"3240\",\"type\":\"Line\"},{\"attributes\":{\"line_color\":\"#1f77b3\",\"line_width\":2,\"x\":{\"field\":\"Year\"},\"y\":{\"field\":\"Total\"}},\"id\":\"3238\",\"type\":\"Line\"},{\"attributes\":{\"margin\":[5,5,5,5],\"name\":\"HSpacer05157\",\"sizing_mode\":\"stretch_width\"},\"id\":\"3201\",\"type\":\"Spacer\"},{\"attributes\":{\"axis_label\":\"Total\",\"bounds\":\"auto\",\"formatter\":{\"id\":\"3249\"},\"major_label_orientation\":\"horizontal\",\"ticker\":{\"id\":\"3219\"}},\"id\":\"3218\",\"type\":\"LinearAxis\"},{\"attributes\":{\"axis\":{\"id\":\"3214\"},\"ticker\":{\"id\":\"3243\"}},\"id\":\"3217\",\"type\":\"Grid\"},{\"attributes\":{\"callback\":null,\"renderers\":[{\"id\":\"3241\"}],\"tags\":[\"hv_created\"],\"tooltips\":[[\"Year\",\"@{Year}\"],[\"Total\",\"@{Total}\"]]},\"id\":\"3204\",\"type\":\"HoverTool\"},{\"attributes\":{\"children\":[{\"id\":\"3201\"},{\"id\":\"3205\"},{\"id\":\"3265\"}],\"margin\":[0,0,0,0],\"name\":\"Row05153\",\"tags\":[\"embedded\"]},\"id\":\"3200\",\"type\":\"Row\"},{\"attributes\":{\"end\":2019.0,\"reset_end\":2019.0,\"reset_start\":2016.0,\"start\":2016.0,\"tags\":[[[\"Year\",\"Year\",null]]]},\"id\":\"3202\",\"type\":\"Range1d\"},{\"attributes\":{},\"id\":\"3219\",\"type\":\"BasicTicker\"},{\"attributes\":{\"axis\":{\"id\":\"3218\"},\"dimension\":1,\"ticker\":{\"id\":\"3219\"}},\"id\":\"3221\",\"type\":\"Grid\"},{\"attributes\":{},\"id\":\"3257\",\"type\":\"UnionRenderers\"},{\"attributes\":{\"data\":{\"Total\":[12518,22560,24795,22317],\"Year\":[2016,2017,2018,2019]},\"selected\":{\"id\":\"3236\"},\"selection_policy\":{\"id\":\"3257\"}},\"id\":\"3235\",\"type\":\"ColumnDataSource\"},{\"attributes\":{\"bottom_units\":\"screen\",\"fill_alpha\":0.5,\"fill_color\":\"lightgrey\",\"left_units\":\"screen\",\"level\":\"overlay\",\"line_alpha\":1.0,\"line_color\":\"black\",\"line_dash\":[4,4],\"line_width\":2,\"right_units\":\"screen\",\"top_units\":\"screen\"},\"id\":\"3227\",\"type\":\"BoxAnnotation\"},{\"attributes\":{\"margin\":[5,5,5,5],\"name\":\"HSpacer05158\",\"sizing_mode\":\"stretch_width\"},\"id\":\"3265\",\"type\":\"Spacer\"},{\"attributes\":{\"active_drag\":\"auto\",\"active_inspect\":\"auto\",\"active_multi\":null,\"active_scroll\":\"auto\",\"active_tap\":\"auto\",\"tools\":[{\"id\":\"3204\"},{\"id\":\"3222\"},{\"id\":\"3223\"},{\"id\":\"3224\"},{\"id\":\"3225\"},{\"id\":\"3226\"}]},\"id\":\"3228\",\"type\":\"Toolbar\"},{\"attributes\":{\"end\":26022.7,\"reset_end\":26022.7,\"reset_start\":11290.3,\"start\":11290.3,\"tags\":[[[\"Total\",\"Total\",null]]]},\"id\":\"3203\",\"type\":\"Range1d\"},{\"attributes\":{},\"id\":\"3236\",\"type\":\"Selection\"},{\"attributes\":{},\"id\":\"3245\",\"type\":\"BasicTickFormatter\"},{\"attributes\":{\"source\":{\"id\":\"3235\"}},\"id\":\"3242\",\"type\":\"CDSView\"},{\"attributes\":{},\"id\":\"3210\",\"type\":\"LinearScale\"},{\"attributes\":{},\"id\":\"3222\",\"type\":\"SaveTool\"},{\"attributes\":{\"ticks\":[2016.0,2017.0,2018.0,2019.0]},\"id\":\"3243\",\"type\":\"FixedTicker\"},{\"attributes\":{\"align\":null,\"below\":[{\"id\":\"3214\"}],\"center\":[{\"id\":\"3217\"},{\"id\":\"3221\"}],\"left\":[{\"id\":\"3218\"}],\"margin\":null,\"min_border_bottom\":10,\"min_border_left\":10,\"min_border_right\":10,\"min_border_top\":10,\"plot_height\":300,\"plot_width\":700,\"renderers\":[{\"id\":\"3241\"}],\"sizing_mode\":\"fixed\",\"title\":{\"id\":\"3206\"},\"toolbar\":{\"id\":\"3228\"},\"x_range\":{\"id\":\"3202\"},\"x_scale\":{\"id\":\"3210\"},\"y_range\":{\"id\":\"3203\"},\"y_scale\":{\"id\":\"3212\"}},\"id\":\"3205\",\"subtype\":\"Figure\",\"type\":\"Plot\"},{\"attributes\":{},\"id\":\"3223\",\"type\":\"PanTool\"},{\"attributes\":{\"text\":\"Figure 1 - Total Bids by Year (2016-2019)\",\"text_color\":{\"value\":\"black\"},\"text_font_size\":{\"value\":\"12pt\"}},\"id\":\"3206\",\"type\":\"Title\"},{\"attributes\":{},\"id\":\"3249\",\"type\":\"BasicTickFormatter\"},{\"attributes\":{},\"id\":\"3224\",\"type\":\"WheelZoomTool\"},{\"attributes\":{\"axis_label\":\"Year\",\"bounds\":\"auto\",\"formatter\":{\"id\":\"3245\"},\"major_label_orientation\":\"horizontal\",\"ticker\":{\"id\":\"3243\"}},\"id\":\"3214\",\"type\":\"LinearAxis\"},{\"attributes\":{\"overlay\":{\"id\":\"3227\"}},\"id\":\"3225\",\"type\":\"BoxZoomTool\"}],\"root_ids\":[\"3200\"]},\"title\":\"Bokeh Application\",\"version\":\"2.2.0\"}};\n  var render_items = [{\"docid\":\"6b67836e-2cd5-4bb5-ba8d-c6488e14d849\",\"root_ids\":[\"3200\"],\"roots\":{\"3200\":\"e0f2d55d-ce43-4fa9-b590-a4298ebce112\"}}];\n  root.Bokeh.embed.embed_items_notebook(docs_json, render_items);\n  }\nif (root.Bokeh !== undefined) {\n    embed_document(root);\n  } else {\n    var attempts = 0;\n    var timer = setInterval(function(root) {\n      if (root.Bokeh !== undefined) {\n        clearInterval(timer);\n        embed_document(root);\n      } else if (document.readyState == \"complete\") {\n        attempts++;\n        if (attempts > 100) {\n          clearInterval(timer);\n          console.log(\"Bokeh: ERROR: Unable to run BokehJS code because BokehJS library is missing\");\n        }\n      }\n    }, 10, root)\n  }\n})(window);</script>",
      "application/vnd.holoviews_exec.v0+json": "",
      "text/plain": ":Curve   [Year]   (Total)"
     },
     "metadata": {
      "application/vnd.holoviews_exec.v0+json": {
       "id": "3200"
      }
     },
     "execution_count": 99
    }
   ],
   "source": [
    "sf = bid['ANO_LICITACAO'].value_counts()\n",
    "df = pd.DataFrame({'Year': sf.index,\n",
    "                    'Total': sf.values})\n",
    "df.sort_values(by=['Year'], inplace=True)\n",
    "\n",
    "fig = df.hvplot.line(x='Year', y='Total', \n",
    "                xticks=np.arange(2016, 2019.5, 1).tolist(),\n",
    "                grid=True, title='Figure 1 - Total Bids by Year (2016-2019)')\n",
    "hvplot.save(fig, FIG_PATH+'fig-1.png')\n",
    "fig"
   ]
  },
  {
   "cell_type": "code",
   "execution_count": 100,
   "metadata": {},
   "outputs": [
    {
     "output_type": "display_data",
     "data": {},
     "metadata": {}
    },
    {
     "output_type": "execute_result",
     "data": {
      "text/html": "<div id='3302'>\n\n\n\n\n\n  <div class=\"bk-root\" id=\"6e88966b-2432-49fa-a9af-459c6753f362\" data-root-id=\"3302\"></div>\n</div>\n<script type=\"application/javascript\">(function(root) {\n  function embed_document(root) {\n  var docs_json = {\"478ebea6-a65c-4998-9dd9-d4c4dd48aa55\":{\"roots\":{\"references\":[{\"attributes\":{\"end\":1880.5,\"reset_end\":1880.5,\"reset_start\":0.0,\"tags\":[[[\"Total\",\"Total\",null]]]},\"id\":\"3304\",\"type\":\"Range1d\"},{\"attributes\":{},\"id\":\"3346\",\"type\":\"CategoricalTickFormatter\"},{\"attributes\":{},\"id\":\"3321\",\"type\":\"CategoricalTicker\"},{\"attributes\":{\"axis_label\":\"Public Organ\",\"bounds\":\"auto\",\"formatter\":{\"id\":\"3346\"},\"major_label_orientation\":\"horizontal\",\"ticker\":{\"id\":\"3321\"}},\"id\":\"3320\",\"type\":\"CategoricalAxis\"},{\"attributes\":{\"callback\":null,\"renderers\":[{\"id\":\"3342\"}],\"tags\":[\"hv_created\"],\"tooltips\":[[\"Public Organ\",\"@{Public_Organ}\"],[\"Total\",\"@{Total}\"]]},\"id\":\"3306\",\"type\":\"HoverTool\"},{\"attributes\":{\"overlay\":{\"id\":\"3328\"}},\"id\":\"3326\",\"type\":\"BoxZoomTool\"},{\"attributes\":{\"axis\":{\"id\":\"3320\"},\"dimension\":1,\"grid_line_color\":null,\"ticker\":null},\"id\":\"3322\",\"type\":\"Grid\"},{\"attributes\":{\"margin\":[5,5,5,5],\"name\":\"HSpacer05380\",\"sizing_mode\":\"stretch_width\"},\"id\":\"3364\",\"type\":\"Spacer\"},{\"attributes\":{\"fill_color\":{\"value\":\"#1f77b3\"},\"height\":{\"value\":0.8},\"right\":{\"field\":\"Total\"},\"y\":{\"field\":\"Public_Organ\"}},\"id\":\"3339\",\"type\":\"HBar\"},{\"attributes\":{\"fill_alpha\":{\"value\":0.2},\"fill_color\":{\"value\":\"#1f77b3\"},\"height\":{\"value\":0.8},\"line_alpha\":{\"value\":0.2},\"right\":{\"field\":\"Total\"},\"y\":{\"field\":\"Public_Organ\"}},\"id\":\"3341\",\"type\":\"HBar\"},{\"attributes\":{},\"id\":\"3327\",\"type\":\"ResetTool\"},{\"attributes\":{\"children\":[{\"id\":\"3303\"},{\"id\":\"3307\"},{\"id\":\"3364\"}],\"margin\":[0,0,0,0],\"name\":\"Row05375\",\"tags\":[\"embedded\"]},\"id\":\"3302\",\"type\":\"Row\"},{\"attributes\":{\"align\":null,\"below\":[{\"id\":\"3316\"}],\"center\":[{\"id\":\"3319\"},{\"id\":\"3322\"}],\"left\":[{\"id\":\"3320\"}],\"margin\":null,\"min_border_bottom\":10,\"min_border_left\":10,\"min_border_right\":10,\"min_border_top\":10,\"plot_height\":300,\"plot_width\":700,\"renderers\":[{\"id\":\"3342\"}],\"sizing_mode\":\"fixed\",\"title\":{\"id\":\"3308\"},\"toolbar\":{\"id\":\"3329\"},\"x_range\":{\"id\":\"3304\"},\"x_scale\":{\"id\":\"3312\"},\"y_range\":{\"id\":\"3305\"},\"y_scale\":{\"id\":\"3314\"}},\"id\":\"3307\",\"subtype\":\"Figure\",\"type\":\"Plot\"},{\"attributes\":{\"data\":{\"Public_Organ\":[\"PM DE GUAPOR\\u00c9\",\"CENTRAL DE LICITA\\u00c7\\u00d5ES DO ESTADO\",\"PM DE PELOTAS\",\"PM DE PEDRAS ALTAS\",\"SECRETARIA DA SA\\u00daDE DO RS\"],\"Total\":[1801,1251,1128,1098,1006]},\"selected\":{\"id\":\"3337\"},\"selection_policy\":{\"id\":\"3355\"}},\"id\":\"3336\",\"type\":\"ColumnDataSource\"},{\"attributes\":{\"text\":\"Figure 2 - Public Organs by Number of Bids (2016-2019)\",\"text_color\":{\"value\":\"black\"},\"text_font_size\":{\"value\":\"12pt\"}},\"id\":\"3308\",\"type\":\"Title\"},{\"attributes\":{},\"id\":\"3323\",\"type\":\"SaveTool\"},{\"attributes\":{\"bottom_units\":\"screen\",\"fill_alpha\":0.5,\"fill_color\":\"lightgrey\",\"left_units\":\"screen\",\"level\":\"overlay\",\"line_alpha\":1.0,\"line_color\":\"black\",\"line_dash\":[4,4],\"line_width\":2,\"right_units\":\"screen\",\"top_units\":\"screen\"},\"id\":\"3328\",\"type\":\"BoxAnnotation\"},{\"attributes\":{},\"id\":\"3324\",\"type\":\"PanTool\"},{\"attributes\":{\"active_drag\":\"auto\",\"active_inspect\":\"auto\",\"active_multi\":null,\"active_scroll\":\"auto\",\"active_tap\":\"auto\",\"tools\":[{\"id\":\"3306\"},{\"id\":\"3323\"},{\"id\":\"3324\"},{\"id\":\"3325\"},{\"id\":\"3326\"},{\"id\":\"3327\"}]},\"id\":\"3329\",\"type\":\"Toolbar\"},{\"attributes\":{},\"id\":\"3314\",\"type\":\"CategoricalScale\"},{\"attributes\":{\"source\":{\"id\":\"3336\"}},\"id\":\"3343\",\"type\":\"CDSView\"},{\"attributes\":{\"axis_label\":\"Total\",\"bounds\":\"auto\",\"formatter\":{\"id\":\"3345\"},\"major_label_orientation\":\"horizontal\",\"ticker\":{\"id\":\"3317\"}},\"id\":\"3316\",\"type\":\"LinearAxis\"},{\"attributes\":{\"margin\":[5,5,5,5],\"name\":\"HSpacer05379\",\"sizing_mode\":\"stretch_width\"},\"id\":\"3303\",\"type\":\"Spacer\"},{\"attributes\":{\"fill_alpha\":{\"value\":0.1},\"fill_color\":{\"value\":\"#1f77b3\"},\"height\":{\"value\":0.8},\"line_alpha\":{\"value\":0.1},\"right\":{\"field\":\"Total\"},\"y\":{\"field\":\"Public_Organ\"}},\"id\":\"3340\",\"type\":\"HBar\"},{\"attributes\":{},\"id\":\"3312\",\"type\":\"LinearScale\"},{\"attributes\":{\"factors\":[\"SECRETARIA DA SA\\u00daDE DO RS\",\"PM DE PEDRAS ALTAS\",\"PM DE PELOTAS\",\"CENTRAL DE LICITA\\u00c7\\u00d5ES DO ESTADO\",\"PM DE GUAPOR\\u00c9\"],\"tags\":[[[\"Public Organ\",\"Public Organ\",null]]]},\"id\":\"3305\",\"type\":\"FactorRange\"},{\"attributes\":{\"data_source\":{\"id\":\"3336\"},\"glyph\":{\"id\":\"3339\"},\"hover_glyph\":null,\"muted_glyph\":{\"id\":\"3341\"},\"nonselection_glyph\":{\"id\":\"3340\"},\"selection_glyph\":null,\"view\":{\"id\":\"3343\"}},\"id\":\"3342\",\"type\":\"GlyphRenderer\"},{\"attributes\":{},\"id\":\"3317\",\"type\":\"BasicTicker\"},{\"attributes\":{},\"id\":\"3355\",\"type\":\"UnionRenderers\"},{\"attributes\":{},\"id\":\"3337\",\"type\":\"Selection\"},{\"attributes\":{\"axis\":{\"id\":\"3316\"},\"grid_line_color\":null,\"ticker\":null},\"id\":\"3319\",\"type\":\"Grid\"},{\"attributes\":{},\"id\":\"3345\",\"type\":\"BasicTickFormatter\"},{\"attributes\":{},\"id\":\"3325\",\"type\":\"WheelZoomTool\"}],\"root_ids\":[\"3302\"]},\"title\":\"Bokeh Application\",\"version\":\"2.2.0\"}};\n  var render_items = [{\"docid\":\"478ebea6-a65c-4998-9dd9-d4c4dd48aa55\",\"root_ids\":[\"3302\"],\"roots\":{\"3302\":\"6e88966b-2432-49fa-a9af-459c6753f362\"}}];\n  root.Bokeh.embed.embed_items_notebook(docs_json, render_items);\n  }\nif (root.Bokeh !== undefined) {\n    embed_document(root);\n  } else {\n    var attempts = 0;\n    var timer = setInterval(function(root) {\n      if (root.Bokeh !== undefined) {\n        clearInterval(timer);\n        embed_document(root);\n      } else if (document.readyState == \"complete\") {\n        attempts++;\n        if (attempts > 100) {\n          clearInterval(timer);\n          console.log(\"Bokeh: ERROR: Unable to run BokehJS code because BokehJS library is missing\");\n        }\n      }\n    }, 10, root)\n  }\n})(window);</script>",
      "application/vnd.holoviews_exec.v0+json": "",
      "text/plain": ":Bars   [Public Organ]   (Total)"
     },
     "metadata": {
      "application/vnd.holoviews_exec.v0+json": {
       "id": "3302"
      }
     },
     "execution_count": 100
    }
   ],
   "source": [
    "sf = bid['NM_ORGAO'].value_counts().head(5)\n",
    "df = pd.DataFrame({'Public Organ': sf.index,\n",
    "                    'Total': sf.values})\n",
    "df.hvplot.barh(x='Public Organ', y='Total', flip_yaxis=True,\n",
    "                title='Figure 2 - Public Organs by Number of Bids (2016-2019)')"
   ]
  }
 ],
 "metadata": {
  "kernelspec": {
   "display_name": "pycaret",
   "language": "python",
   "name": "pycaret"
  },
  "language_info": {
   "codemirror_mode": {
    "name": "ipython",
    "version": 3
   },
   "file_extension": ".py",
   "mimetype": "text/x-python",
   "name": "python",
   "nbconvert_exporter": "python",
   "pygments_lexer": "ipython3",
   "version": "3.7.7-final"
  }
 },
 "nbformat": 4,
 "nbformat_minor": 2
}