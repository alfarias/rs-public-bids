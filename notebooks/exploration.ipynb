{
 "cells": [
  {
   "cell_type": "markdown",
   "metadata": {},
   "source": [
    "# 1. Introduction\n",
    "\n",
    "Rio Grande do Sul Public Bids."
   ]
  },
  {
   "cell_type": "markdown",
   "metadata": {},
   "source": [
    "# 2. Load Modules and Variable Environments"
   ]
  },
  {
   "cell_type": "code",
   "execution_count": 22,
   "metadata": {},
   "outputs": [],
   "source": [
    "%reload_ext autoreload\n",
    "%autoreload 1\n",
    "# Load custom local packages\n",
    "import sys\n",
    "import os\n",
    "sys.path.append(os.path.abspath('..'))\n",
    "# Local Packages\n",
    "%aimport src.features\n",
    "from src.features.build_features import build_features\n",
    "# Standard Packages\n",
    "import pandas as pd\n",
    "# Paths and Config constants\n",
    "DATA_PATH = os.path.abspath('..')+os.sep+'data'\n",
    "FIG_PATH = os.path.abspath('..')+os.sep+'reports'+os.sep+'figures'\n",
    "YEARS = [2016, 2017, 2018, 2019]"
   ]
  },
  {
   "cell_type": "markdown",
   "metadata": {},
   "source": [
    "# 3. Build Required Features"
   ]
  },
  {
   "cell_type": "code",
   "execution_count": 23,
   "metadata": {
    "tags": []
   },
   "outputs": [
    {
     "output_type": "execute_result",
     "data": {
      "text/plain": "\"\\nbid_features = ['NR_LICITACAO', 'CD_ORGAO', 'NM_ORGAO', 'DS_OBJETO',\\n                 'TP_OBJETO', 'ANO_LICITACAO']\\nitem_features = ['NR_LICITACAO', 'DS_ITEM', 'VL_UNITARIO_HOMOLOGADO']\\n\\nbuild_features(dataset='licitacao', data_path=DATA_PATH, cols=bid_features, values=YEARS)\\nprint('=' * 18)\\nbuild_features(dataset='item', data_path=DATA_PATH, cols=item_features, values=YEARS)\\n\""
     },
     "metadata": {},
     "execution_count": 23
    }
   ],
   "source": [
    "'''\n",
    "bid_features = ['NR_LICITACAO', 'CD_ORGAO', 'NM_ORGAO', 'DS_OBJETO',\n",
    "                 'TP_OBJETO', 'ANO_LICITACAO']\n",
    "item_features = ['NR_LICITACAO', 'DS_ITEM', 'VL_UNITARIO_HOMOLOGADO']\n",
    "\n",
    "build_features(dataset='licitacao', data_path=DATA_PATH, cols=bid_features, values=YEARS)\n",
    "print('=' * 18)\n",
    "build_features(dataset='item', data_path=DATA_PATH, cols=item_features, values=YEARS)\n",
    "'''"
   ]
  },
  {
   "cell_type": "markdown",
   "metadata": {},
   "source": [
    "# 4. Load Processed Data"
   ]
  },
  {
   "cell_type": "code",
   "execution_count": 24,
   "metadata": {},
   "outputs": [],
   "source": [
    "bid = pd.read_parquet(DATA_PATH+os.sep+'processed'+\n",
    "                        os.sep+str(min(years))+'_'+str(max(years))+\n",
    "                        '_'+'licitacao.parquet')\n",
    "item = pd.read_parquet(DATA_PATH+os.sep+'processed'+\n",
    "                        os.sep+str(min(years))+'_'+str(max(years))+\n",
    "                        '_'+'item.parquet')"
   ]
  },
  {
   "cell_type": "code",
   "execution_count": 26,
   "metadata": {
    "tags": []
   },
   "outputs": [
    {
     "output_type": "stream",
     "name": "stdout",
     "text": "<class 'pandas.core.frame.DataFrame'>\nRangeIndex: 3070844 entries, 0 to 3070843\nData columns (total 4 columns):\n #   Column                  Dtype  \n---  ------                  -----  \n 0   NR_LICITACAO            float64\n 1   DS_ITEM                 object \n 2   VL_UNITARIO_HOMOLOGADO  float64\n 3   ANO_LICITACAO           int64  \ndtypes: float64(2), int64(1), object(1)\nmemory usage: 93.7+ MB\n"
    }
   ],
   "source": [
    "item.info()"
   ]
  }
 ],
 "metadata": {
  "kernelspec": {
   "display_name": "pycaret",
   "language": "python",
   "name": "pycaret"
  },
  "language_info": {
   "codemirror_mode": {
    "name": "ipython",
    "version": 3
   },
   "file_extension": ".py",
   "mimetype": "text/x-python",
   "name": "python",
   "nbconvert_exporter": "python",
   "pygments_lexer": "ipython3",
   "version": "3.7.7-final"
  }
 },
 "nbformat": 4,
 "nbformat_minor": 2
}